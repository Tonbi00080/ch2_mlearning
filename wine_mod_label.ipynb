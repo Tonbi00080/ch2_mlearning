{
 "cells": [
  {
   "cell_type": "code",
   "execution_count": 1,
   "metadata": {},
   "outputs": [
    {
     "name": "stdout",
     "output_type": "stream",
     "text": [
      "             precision    recall  f1-score   support\n",
      "\n",
      "          0       0.47      0.18      0.26        39\n",
      "          1       0.95      0.99      0.97       907\n",
      "          2       0.88      0.44      0.59        34\n",
      "\n",
      "avg / total       0.92      0.94      0.93       980\n",
      "\n",
      "正解率＝ 0.937755102041\n"
     ]
    }
   ],
   "source": [
    "import pandas as pd\n",
    "from sklearn.model_selection import train_test_split\n",
    "# 　ランダムフォレストのアルゴリズムモジュール\n",
    "from sklearn.ensemble import RandomForestClassifier\n",
    "from sklearn.metrics import accuracy_score\n",
    "# 各分類ラベルごとのレポート出力用モジュール\n",
    "from sklearn.metrics import classification_report\n",
    "\n",
    "# データ読み込み\n",
    "wine = pd.read_csv(\"winequality-white.csv\", sep =\";\", encoding = \"utf-8\")\n",
    "\n",
    "# CSVデータを説明変数と目的変数に分離\n",
    "y = wine[\"quality\"]\n",
    "# drop(“行/列名”,axis=0(行)/1(列)) 指定の行/列名を削除\n",
    "x = wine.drop(\"quality\", axis =1)\n",
    "\n",
    "# ラベル付け直す\n",
    "# 0:~4 ,1:5~7,2:8~ の三段階に 端の方はあまりデータなかった\n",
    "newlist = []\n",
    "for v in list(y):\n",
    "    if v <= 4:\n",
    "        newlist += [0]　　# Newlist = newlist + [0] ・・・0という値をnewlistの配列の末尾に追加\n",
    "    elif v <= 7:\n",
    "        newlist += [1]\n",
    "    else:\n",
    "        newlist += [2]\n",
    "y = newlist\n",
    "\n",
    "# 学習用とテスト用に分離\n",
    "x_train, x_test, y_train, y_test = train_test_split(x, y, test_size = 0.2 ) \n",
    "\n",
    "# 学習する\n",
    "model = RandomForestClassifier()\n",
    "model.fit(x_train, y_train)\n",
    "\n",
    "#評価する\n",
    "y_pred = model.predict(x_test)\n",
    "print(classification_report(y_test,y_pred))\n",
    "print(\"正解率＝\", accuracy_score(y_test, y_pred))"
   ]
  },
  {
   "cell_type": "code",
   "execution_count": null,
   "metadata": {
    "collapsed": true
   },
   "outputs": [],
   "source": []
  }
 ],
 "metadata": {
  "kernelspec": {
   "display_name": "Python 3",
   "language": "python",
   "name": "python3"
  },
  "language_info": {
   "codemirror_mode": {
    "name": "ipython",
    "version": 3
   },
   "file_extension": ".py",
   "mimetype": "text/x-python",
   "name": "python",
   "nbconvert_exporter": "python",
   "pygments_lexer": "ipython3",
   "version": "3.6.2"
  }
 },
 "nbformat": 4,
 "nbformat_minor": 2
}
