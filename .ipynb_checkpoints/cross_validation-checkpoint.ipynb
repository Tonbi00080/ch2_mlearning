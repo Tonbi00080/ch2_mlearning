{
 "cells": [
  {
   "cell_type": "code",
   "execution_count": 3,
   "metadata": {},
   "outputs": [
    {
     "ename": "SyntaxError",
     "evalue": "invalid syntax (<ipython-input-3-f61f805dd53a>, line 30)",
     "output_type": "error",
     "traceback": [
      "\u001b[0;36m  File \u001b[0;32m\"<ipython-input-3-f61f805dd53a>\"\u001b[0;36m, line \u001b[0;32m30\u001b[0m\n\u001b[0;31m    hasattr(clf, \"score\"):\u001b[0m\n\u001b[0m                          ^\u001b[0m\n\u001b[0;31mSyntaxError\u001b[0m\u001b[0;31m:\u001b[0m invalid syntax\n"
     ]
    }
   ],
   "source": [
    "import pandas as pd\n",
    "# 全アルゴリズムの取得\n",
    "from sklearn.utils.testing import all_estimators\n",
    "# K分割クロスバリデーションライブラリ\n",
    "from sklearn.model_selection import KFold\n",
    "# futurewarningの回避\n",
    "import warnings\n",
    "from sklearn.model_selection import cross_val_score\n",
    "\n",
    "iris_data = pd.read_csv(\"iris.csv\",encoding = \"utf-8\")\n",
    "\n",
    "#  アヤメのデータをラベルとデータに分離\n",
    "y = iris_data.loc[:,\"Name\"]\n",
    "x = iris_data.loc[:,[\"SepalLength\",\"SepalWidth\",\"PetalLength\",\"PetalWidth\"]]\n",
    "\n",
    "#  K分割クロスバリデーション用オブジェクト\n",
    "kfold_cv = KFold(n_splits = 5,shuffle =True)\n",
    "\n",
    "# warning escaper\n",
    "warnings.filterwarnings('ignore')\n",
    "# classifierのアルゴリズム取得\n",
    "allAlgorithms = all_estimators(type_filter = \"classifier\")\n",
    "\n",
    "# allAlgorithmsの名前とアルゴリズムを取得しそれぞれ評価\n",
    "for (name,algorithm) in allAlgorithms:\n",
    "    # 各アルゴリズムのオブジェクト生成\n",
    "    clf = algorithm()\n",
    "    \n",
    "    #score メソッドを持つクラスを対象とする\n",
    "    if hasattr(clf, \"score\"):\n",
    "        \n",
    "        # クロスバリデーション cross_val_score(classifier, トレーニング用データ,テスト用データ,データsplitの形式)\n",
    "        scores = cross_val_score(clf, x ,y ,cv = kfold_cv )\n",
    "        print(name,\"の正解率：\",scores)"
   ]
  },
  {
   "cell_type": "code",
   "execution_count": null,
   "metadata": {
    "collapsed": true
   },
   "outputs": [],
   "source": []
  }
 ],
 "metadata": {
  "kernelspec": {
   "display_name": "Python 3",
   "language": "python",
   "name": "python3"
  },
  "language_info": {
   "codemirror_mode": {
    "name": "ipython",
    "version": 3
   },
   "file_extension": ".py",
   "mimetype": "text/x-python",
   "name": "python",
   "nbconvert_exporter": "python",
   "pygments_lexer": "ipython3",
   "version": "3.6.2"
  }
 },
 "nbformat": 4,
 "nbformat_minor": 2
}
