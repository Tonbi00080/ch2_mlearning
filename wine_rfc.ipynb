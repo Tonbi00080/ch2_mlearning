{
 "cells": [
  {
   "cell_type": "code",
   "execution_count": 3,
   "metadata": {},
   "outputs": [
    {
     "name": "stdout",
     "output_type": "stream",
     "text": [
      "             precision    recall  f1-score   support\n",
      "\n",
      "          3       0.00      0.00      0.00        10\n",
      "          4       0.36      0.16      0.22        31\n",
      "          5       0.64      0.68      0.66       297\n",
      "          6       0.64      0.75      0.69       432\n",
      "          7       0.62      0.49      0.55       167\n",
      "          8       0.75      0.29      0.41        42\n",
      "          9       0.00      0.00      0.00         1\n",
      "\n",
      "avg / total       0.63      0.64      0.62       980\n",
      "\n",
      "正解率＝ 0.635714285714\n"
     ]
    },
    {
     "name": "stderr",
     "output_type": "stream",
     "text": [
      "/Users/yuki-t/.pyenv/versions/anaconda3-5.0.0/lib/python3.6/site-packages/sklearn/metrics/classification.py:1135: UndefinedMetricWarning: Precision and F-score are ill-defined and being set to 0.0 in labels with no predicted samples.\n",
      "  'precision', 'predicted', average, warn_for)\n"
     ]
    }
   ],
   "source": [
    "import pandas as pd\n",
    "from sklearn.model_selection import train_test_split\n",
    "# 　ランダムフォレストのアルゴリズムモジュール\n",
    "from sklearn.ensemble import RandomForestClassifier\n",
    "from sklearn.metrics import accuracy_score\n",
    "# 各分類ラベルごとのレポート出力用モジュール\n",
    "from sklearn.metrics import classification_report\n",
    "\n",
    "# データ読み込み\n",
    "wine = pd.read_csv(\"winequality-white.csv\", sep =\";\", encoding = \"utf-8\")\n",
    "\n",
    "# CSVデータを説明変数と目的変数に分離\n",
    "y = wine[\"quality\"]\n",
    "# drop(“行/列名”,axis=0(行)/1(列)) 指定の行/列名を削除\n",
    "x = wine.drop(\"quality\", axis =1)\n",
    "\n",
    "# 学習用とテスト用に分離\n",
    "x_train, x_test, y_train, y_test = train_test_split(x, y, test_size = 0.2 ) \n",
    "\n",
    "# 学習する\n",
    "model = RandomForestClassifier()\n",
    "model.fit(x_train, y_train)\n",
    "\n",
    "#評価する\n",
    "y_pred = model.predict(x_test)\n",
    "print(classification_report(y_test,y_pred))\n",
    "print(\"正解率＝\", accuracy_score(y_test, y_pred))"
   ]
  },
  {
   "cell_type": "code",
   "execution_count": null,
   "metadata": {
    "collapsed": true
   },
   "outputs": [],
   "source": []
  }
 ],
 "metadata": {
  "kernelspec": {
   "display_name": "Python 3",
   "language": "python",
   "name": "python3"
  },
  "language_info": {
   "codemirror_mode": {
    "name": "ipython",
    "version": 3
   },
   "file_extension": ".py",
   "mimetype": "text/x-python",
   "name": "python",
   "nbconvert_exporter": "python",
   "pygments_lexer": "ipython3",
   "version": "3.6.2"
  }
 },
 "nbformat": 4,
 "nbformat_minor": 2
}
