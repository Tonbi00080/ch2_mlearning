{
 "cells": [
  {
   "cell_type": "code",
   "execution_count": 4,
   "metadata": {},
   "outputs": [
    {
     "name": "stdout",
     "output_type": "stream",
     "text": [
      "AdaBoostClassifier の正解率： [ 0.93333333  0.96666667  0.93333333  0.96666667  0.76666667]\n",
      "BaggingClassifier の正解率： [ 0.9         0.96666667  0.96666667  0.9         1.        ]\n",
      "BernoulliNB の正解率： [ 0.2         0.26666667  0.2         0.26666667  0.23333333]\n",
      "CalibratedClassifierCV の正解率： [ 0.96666667  0.9         0.9         0.96666667  0.9       ]\n",
      "DecisionTreeClassifier の正解率： [ 0.93333333  0.96666667  0.96666667  0.9         1.        ]\n",
      "ExtraTreeClassifier の正解率： [ 0.93333333  0.96666667  0.93333333  0.93333333  0.86666667]\n",
      "ExtraTreesClassifier の正解率： [ 0.96666667  0.96666667  0.93333333  0.93333333  0.93333333]\n",
      "GaussianNB の正解率： [ 1.          0.93333333  0.96666667  0.9         0.96666667]\n",
      "GaussianProcessClassifier の正解率： [ 1.          0.9         0.93333333  0.96666667  0.96666667]\n",
      "GradientBoostingClassifier の正解率： [ 0.9         1.          0.93333333  0.93333333  0.96666667]\n",
      "KNeighborsClassifier の正解率： [ 0.93333333  1.          0.96666667  1.          0.93333333]\n",
      "LabelPropagation の正解率： [ 0.96666667  0.96666667  0.96666667  1.          0.93333333]\n",
      "LabelSpreading の正解率： [ 0.96666667  0.96666667  1.          0.93333333  0.93333333]\n",
      "LinearDiscriminantAnalysis の正解率： [ 0.93333333  1.          1.          0.96666667  1.        ]\n",
      "LinearSVC の正解率： [ 1.          0.9         1.          0.93333333  0.9       ]\n",
      "LogisticRegression の正解率： [ 0.96666667  0.9         1.          0.96666667  0.96666667]\n",
      "LogisticRegressionCV の正解率： [ 0.93333333  1.          0.93333333  0.93333333  0.9       ]\n",
      "MLPClassifier の正解率： [ 0.96666667  1.          1.          0.93333333  0.93333333]\n",
      "MultinomialNB の正解率： [ 0.96666667  0.8         0.7         0.9         0.83333333]\n",
      "NearestCentroid の正解率： [ 0.93333333  0.8         0.9         0.86666667  1.        ]\n",
      "NuSVC の正解率： [ 0.96666667  0.86666667  0.96666667  0.96666667  1.        ]\n",
      "PassiveAggressiveClassifier の正解率： [ 0.5         0.8         0.6         0.93333333  0.9       ]\n",
      "Perceptron の正解率： [ 0.43333333  0.66666667  0.33333333  0.93333333  0.63333333]\n",
      "QuadraticDiscriminantAnalysis の正解率： [ 1.          0.96666667  1.          0.96666667  0.96666667]\n",
      "RadiusNeighborsClassifier の正解率： [ 0.93333333  0.9         1.          0.9         0.96666667]\n",
      "RandomForestClassifier の正解率： [ 1.          0.93333333  1.          0.9         0.96666667]\n",
      "RidgeClassifier の正解率： [ 0.83333333  0.8         0.83333333  0.86666667  0.8       ]\n",
      "RidgeClassifierCV の正解率： [ 0.8         0.8         0.86666667  0.83333333  0.86666667]\n",
      "SGDClassifier の正解率： [ 0.53333333  0.66666667  0.76666667  0.73333333  0.8       ]\n",
      "SVC の正解率： [ 0.96666667  0.96666667  1.          0.96666667  1.        ]\n"
     ]
    }
   ],
   "source": [
    "import pandas as pd\n",
    "# 全アルゴリズムの取得\n",
    "from sklearn.utils.testing import all_estimators\n",
    "# K分割クロスバリデーションライブラリ\n",
    "from sklearn.model_selection import KFold\n",
    "# futurewarningの回避\n",
    "import warnings\n",
    "from sklearn.model_selection import cross_val_score\n",
    "\n",
    "iris_data = pd.read_csv(\"iris.csv\",encoding = \"utf-8\")\n",
    "\n",
    "#  アヤメのデータを説明変数xと目的変数yに分離\n",
    "y = iris_data.loc[:,\"Name\"]\n",
    "x = iris_data.loc[:,[\"SepalLength\",\"SepalWidth\",\"PetalLength\",\"PetalWidth\"]]\n",
    "\n",
    "#  K分割クロスバリデーション用オブジェクト\n",
    "kfold_cv = KFold(n_splits = 5,shuffle =True)\n",
    "\n",
    "# warning escaper\n",
    "warnings.filterwarnings('ignore')\n",
    "# classifierのアルゴリズム取得\n",
    "allAlgorithms = all_estimators(type_filter = \"classifier\")\n",
    "\n",
    "# allAlgorithmsの名前とアルゴリズムを取得しそれぞれ評価\n",
    "for (name,algorithm) in allAlgorithms:\n",
    "    # 各アルゴリズムのオブジェクト生成\n",
    "    clf = algorithm()\n",
    "    \n",
    "    #score メソッドを持つクラスを対象とする\n",
    "    # hasattr(オブジェクト、属性名）：オブジェクトが属性をもっているかを見る\n",
    "    if hasattr(clf, \"score\"):\n",
    "        \n",
    "        # クロスバリデーション cross_val_score(classifier, トレーニング用データ,テスト用データ,データsplitの形式)\n",
    "        scores = cross_val_score(clf, x ,y ,cv = kfold_cv )\n",
    "        print(name,\"の正解率：\",scores)"
   ]
  },
  {
   "cell_type": "code",
   "execution_count": null,
   "metadata": {
    "collapsed": true
   },
   "outputs": [],
   "source": []
  }
 ],
 "metadata": {
  "kernelspec": {
   "display_name": "Python 3",
   "language": "python",
   "name": "python3"
  },
  "language_info": {
   "codemirror_mode": {
    "name": "ipython",
    "version": 3
   },
   "file_extension": ".py",
   "mimetype": "text/x-python",
   "name": "python",
   "nbconvert_exporter": "python",
   "pygments_lexer": "ipython3",
   "version": "3.6.2"
  }
 },
 "nbformat": 4,
 "nbformat_minor": 2
}
