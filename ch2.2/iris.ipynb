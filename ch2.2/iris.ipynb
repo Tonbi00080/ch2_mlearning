{
 "cells": [
  {
   "cell_type": "code",
   "execution_count": 12,
   "metadata": {},
   "outputs": [
    {
     "name": "stdout",
     "output_type": "stream",
     "text": [
      "正解率： 0.933333333333\n"
     ]
    }
   ],
   "source": [
    "import pandas as pd\n",
    "from sklearn.model_selection import train_test_split\n",
    "from sklearn.svm import SVC\n",
    "from sklearn.metrics import accuracy_score\n",
    "\n",
    "# アヤメのデータの読み込み　\n",
    "# DataFrame型 iris_data\n",
    "iris_data = pd.read_csv(\"iris.csv\", encoding = \"utf-8\")\n",
    "\n",
    "# CSVをラベルと入力データに分離\n",
    "# loc(A,B):A にindex名、Bにcolumn名 を指定、「：」は全指定なのでカラムのデータすべて配列で取得\n",
    "y = iris_data.loc[:,\"Name\"]\n",
    "x = iris_data.loc[:,[\"SepalLength\",\"SepalWidth\",\"PetalLength\",\"PetalWidth\"]]\n",
    "\n",
    "# 学習用とテスト用データの分離 test 20% train 80%　x,yを並べ替えて抽出\n",
    "x_train, x_test, y_train, y_test = train_test_split(x, y,test_size = 0.2, train_size = 0.8, shuffle = True)\n",
    "\n",
    "# 学習 SVCをつかってクラス分け\n",
    "clf = SVC()\n",
    "clf.fit(x_train, y_train)\n",
    "\n",
    "# 評価する\n",
    "# x_testから予測値格納\n",
    "y_pred = clf.predict(x_test)\n",
    "# y_testとの正答率を見る\n",
    "print(\"正解率：\",accuracy_score(y_test, y_pred))"
   ]
  },
  {
   "cell_type": "code",
   "execution_count": null,
   "metadata": {
    "collapsed": true
   },
   "outputs": [],
   "source": []
  },
  {
   "cell_type": "code",
   "execution_count": null,
   "metadata": {
    "collapsed": true
   },
   "outputs": [],
   "source": []
  },
  {
   "cell_type": "code",
   "execution_count": null,
   "metadata": {
    "collapsed": true
   },
   "outputs": [],
   "source": []
  },
  {
   "cell_type": "code",
   "execution_count": null,
   "metadata": {
    "collapsed": true
   },
   "outputs": [],
   "source": []
  }
 ],
 "metadata": {
  "kernelspec": {
   "display_name": "Python 3",
   "language": "python",
   "name": "python3"
  },
  "language_info": {
   "codemirror_mode": {
    "name": "ipython",
    "version": 3
   },
   "file_extension": ".py",
   "mimetype": "text/x-python",
   "name": "python",
   "nbconvert_exporter": "python",
   "pygments_lexer": "ipython3",
   "version": "3.6.2"
  }
 },
 "nbformat": 4,
 "nbformat_minor": 2
}
