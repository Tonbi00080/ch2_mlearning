{
 "cells": [
  {
   "cell_type": "code",
   "execution_count": 2,
   "metadata": {},
   "outputs": [
    {
     "name": "stdout",
     "output_type": "stream",
     "text": [
      "AdaBoostClassifier 正解率 0.966666666667\n",
      "BaggingClassifier 正解率 0.966666666667\n",
      "BernoulliNB 正解率 0.266666666667\n",
      "CalibratedClassifierCV 正解率 0.966666666667\n",
      "DecisionTreeClassifier 正解率 1.0\n",
      "ExtraTreeClassifier 正解率 0.933333333333\n",
      "ExtraTreesClassifier 正解率 0.966666666667\n",
      "GaussianNB 正解率 0.966666666667\n",
      "GaussianProcessClassifier 正解率 1.0\n",
      "GradientBoostingClassifier 正解率 0.966666666667\n",
      "KNeighborsClassifier 正解率 0.966666666667\n",
      "LabelPropagation 正解率 0.933333333333\n",
      "LabelSpreading 正解率 0.966666666667\n",
      "LinearDiscriminantAnalysis 正解率 0.966666666667\n",
      "LinearSVC 正解率 0.966666666667\n",
      "LogisticRegression 正解率 0.966666666667\n",
      "LogisticRegressionCV 正解率 0.966666666667\n",
      "MLPClassifier 正解率 0.966666666667\n",
      "MultinomialNB 正解率 0.833333333333\n",
      "NearestCentroid 正解率 0.933333333333\n",
      "NuSVC 正解率 1.0\n",
      "PassiveAggressiveClassifier 正解率 0.8\n",
      "Perceptron 正解率 0.566666666667\n",
      "QuadraticDiscriminantAnalysis 正解率 0.966666666667\n",
      "RadiusNeighborsClassifier 正解率 0.966666666667\n",
      "RandomForestClassifier 正解率 0.966666666667\n",
      "RidgeClassifier 正解率 0.833333333333\n",
      "RidgeClassifierCV 正解率 0.833333333333\n",
      "SGDClassifier 正解率 0.966666666667\n",
      "SVC 正解率 1.0\n"
     ]
    },
    {
     "name": "stderr",
     "output_type": "stream",
     "text": [
      "/Users/yuki-t/.pyenv/versions/anaconda3-5.0.0/lib/python3.6/site-packages/sklearn/neural_network/multilayer_perceptron.py:564: ConvergenceWarning: Stochastic Optimizer: Maximum iterations (200) reached and the optimization hasn't converged yet.\n",
      "  % self.max_iter, ConvergenceWarning)\n",
      "/Users/yuki-t/.pyenv/versions/anaconda3-5.0.0/lib/python3.6/site-packages/sklearn/linear_model/stochastic_gradient.py:84: FutureWarning: max_iter and tol parameters have been added in <class 'sklearn.linear_model.passive_aggressive.PassiveAggressiveClassifier'> in 0.19. If both are left unset, they default to max_iter=5 and tol=None. If tol is not None, max_iter defaults to max_iter=1000. From 0.21, default max_iter will be 1000, and default tol will be 1e-3.\n",
      "  \"and default tol will be 1e-3.\" % type(self), FutureWarning)\n",
      "/Users/yuki-t/.pyenv/versions/anaconda3-5.0.0/lib/python3.6/site-packages/sklearn/linear_model/stochastic_gradient.py:84: FutureWarning: max_iter and tol parameters have been added in <class 'sklearn.linear_model.perceptron.Perceptron'> in 0.19. If both are left unset, they default to max_iter=5 and tol=None. If tol is not None, max_iter defaults to max_iter=1000. From 0.21, default max_iter will be 1000, and default tol will be 1e-3.\n",
      "  \"and default tol will be 1e-3.\" % type(self), FutureWarning)\n",
      "/Users/yuki-t/.pyenv/versions/anaconda3-5.0.0/lib/python3.6/site-packages/sklearn/linear_model/stochastic_gradient.py:84: FutureWarning: max_iter and tol parameters have been added in <class 'sklearn.linear_model.stochastic_gradient.SGDClassifier'> in 0.19. If both are left unset, they default to max_iter=5 and tol=None. If tol is not None, max_iter defaults to max_iter=1000. From 0.21, default max_iter will be 1000, and default tol will be 1e-3.\n",
      "  \"and default tol will be 1e-3.\" % type(self), FutureWarning)\n"
     ]
    }
   ],
   "source": [
    "import pandas as pd\n",
    "from sklearn.model_selection import train_test_split\n",
    "from sklearn.metrics import accuracy_score\n",
    "# futurewarningの回避\n",
    "import warnings\n",
    "# 全アルゴリズムの取得\n",
    "from sklearn.utils.testing import all_estimators\n",
    "\n",
    "iris_data = pd.read_csv(\"iris.csv\",encoding = \"utf-8\")\n",
    "\n",
    "#  アヤメのデータをラベルとデータに分離\n",
    "y = iris_data.loc[:,\"Name\"]\n",
    "x = iris_data.loc[:,[\"SepalLength\",\"SepalWidth\",\"PetalLength\",\"PetalWidth\"]]\n",
    "\n",
    "#  学習用とテスト用のデータに分類\n",
    "x_train, x_test, y_train, y_test = train_test_split(x, y, test_size = 0.2, train_size = 0.8, shuffle =True)\n",
    "\n",
    "# warning escaper\n",
    "warnings.filterwarnings('ignore')\n",
    "# classifierのアルゴリズム取得\n",
    "allAlgorithms = all_estimators(type_filter = \"classifier\")\n",
    "\n",
    "# allAlgorithmsの名前とアルゴリズムを取得しそれぞれ評価\n",
    "for (name,algorithm) in allAlgorithms:\n",
    "    # 各アルゴリズムのオブジェクト生成\n",
    "    clf = algorithm()\n",
    "    \n",
    "    # 学習して評価\n",
    "    clf.fit(x_train, y_train)\n",
    "    y_pred = clf.predict(x_test)\n",
    "    print(name, \"正解率\",accuracy_score(y_test,y_pred))"
   ]
  },
  {
   "cell_type": "code",
   "execution_count": null,
   "metadata": {
    "collapsed": true
   },
   "outputs": [],
   "source": []
  }
 ],
 "metadata": {
  "kernelspec": {
   "display_name": "Python 3",
   "language": "python",
   "name": "python3"
  },
  "language_info": {
   "codemirror_mode": {
    "name": "ipython",
    "version": 3
   },
   "file_extension": ".py",
   "mimetype": "text/x-python",
   "name": "python",
   "nbconvert_exporter": "python",
   "pygments_lexer": "ipython3",
   "version": "3.6.2"
  }
 },
 "nbformat": 4,
 "nbformat_minor": 2
}
